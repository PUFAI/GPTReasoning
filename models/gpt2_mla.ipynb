{
 "cells": [
  {
   "cell_type": "code",
   "execution_count": 2,
   "metadata": {},
   "outputs": [
    {
     "name": "stdout",
     "output_type": "stream",
     "text": [
      "/Users/michaelgathara/Documents/Projects/GPT/.venv/bin/python\n"
     ]
    }
   ],
   "source": [
    "import sys\n",
    "print(sys.executable)"
   ]
  },
  {
   "cell_type": "code",
   "execution_count": 3,
   "metadata": {},
   "outputs": [
    {
     "name": "stdout",
     "output_type": "stream",
     "text": [
      "Your base folder is: /Users/michaelgathara/Documents/Projects/GPT\n"
     ]
    }
   ],
   "source": [
    "import sys\n",
    "import os\n",
    "import json\n",
    "\n",
    "# Get the parent directory of the current notebook\n",
    "base_folder = os.path.abspath(\"..\")\n",
    "print(f\"Your base folder is: {base_folder}\")\n",
    "sys.path.append(base_folder)"
   ]
  },
  {
   "cell_type": "code",
   "execution_count": 18,
   "metadata": {},
   "outputs": [
    {
     "name": "stdout",
     "output_type": "stream",
     "text": [
      "Using device: mps\n"
     ]
    }
   ],
   "source": [
    "# PyTorch Stuff\n",
    "import torch\n",
    "import torch.nn as nn\n",
    "import torch.nn.functional as F\n",
    "device = torch.device(\"mps\" if torch.backends.mps.is_available() else \"cuda\" if torch.cuda.is_available else \"cpu\")\n",
    "\n",
    "# Library imports\n",
    "import multiprocessing\n",
    "from tqdm import tqdm\n",
    "import numpy as np\n",
    "import matplotlib.pyplot as plt\n",
    "\n",
    "# Local imports\n",
    "from data import get_wikitext_data, get_fineweb_data, save_data, load_data, clean_textdata\n",
    "from tokenization import get_tiktoken_tokenizer\n",
    "\n",
    "\n",
    "print(f\"Using device: {device}\")"
   ]
  },
  {
   "cell_type": "code",
   "execution_count": 5,
   "metadata": {},
   "outputs": [],
   "source": [
    "batch_size = 64  # Kept the same; could be adjusted based on hardware\n",
    "block_size = 1024  # GPT-2 uses a context length of 1024 tokens\n",
    "max_iters = 50000  # More iterations needed for larger models\n",
    "eval_interval = 1000  # Increase since more iterations are done\n",
    "learning_rate = 5e-5  # GPT-2 uses a lower learning rate\n",
    "eval_iters = 500  # More frequent evaluation for stability\n",
    "\n",
    "n_embd = 768  # GPT-2 uses 768 for the small version, 1024 for medium, 1280 for large, 1600 for XL\n",
    "n_head = 12  # GPT-2 uses 12 attention heads\n",
    "n_layer = 12  # GPT-2 has 12 transformer blocks in the small version\n",
    "dropout = 0.1  # GPT-2 uses 0.1 dropout for better generalization"
   ]
  },
  {
   "cell_type": "code",
   "execution_count": 6,
   "metadata": {},
   "outputs": [
    {
     "name": "stderr",
     "output_type": "stream",
     "text": [
      "/Users/michaelgathara/Documents/Projects/GPT/.venv/lib/python3.10/site-packages/tqdm/auto.py:21: TqdmWarning: IProgress not found. Please update jupyter and ipywidgets. See https://ipywidgets.readthedocs.io/en/stable/user_install.html\n",
      "  from .autonotebook import tqdm as notebook_tqdm\n"
     ]
    },
    {
     "name": "stdout",
     "output_type": "stream",
     "text": [
      "<Encoding 'gpt2'>\n",
      "DatasetDict({\n",
      "    test: Dataset({\n",
      "        features: ['text'],\n",
      "        num_rows: 4358\n",
      "    })\n",
      "    train: Dataset({\n",
      "        features: ['text'],\n",
      "        num_rows: 1801350\n",
      "    })\n",
      "    validation: Dataset({\n",
      "        features: ['text'],\n",
      "        num_rows: 3760\n",
      "    })\n",
      "})\n"
     ]
    }
   ],
   "source": [
    "DATA_PATH = f\"{base_folder}/data/tiktoken_tokenized_wikitext\"\n",
    "num_cores = multiprocessing.cpu_count()\n",
    "\n",
    "tokenizer = get_tiktoken_tokenizer()\n",
    "dataset = get_wikitext_data()\n",
    "# save_data(dataset, DATA_PATH)\n",
    "\n",
    "print(tokenizer)\n",
    "print(dataset)"
   ]
  },
  {
   "cell_type": "markdown",
   "metadata": {},
   "source": [
    "# Cleaning Data"
   ]
  },
  {
   "cell_type": "code",
   "execution_count": 7,
   "metadata": {},
   "outputs": [
    {
     "name": "stdout",
     "output_type": "stream",
     "text": [
      "DatasetDict({\n",
      "    test: Dataset({\n",
      "        features: ['text'],\n",
      "        num_rows: 2891\n",
      "    })\n",
      "    train: Dataset({\n",
      "        features: ['text'],\n",
      "        num_rows: 1165029\n",
      "    })\n",
      "    validation: Dataset({\n",
      "        features: ['text'],\n",
      "        num_rows: 2461\n",
      "    })\n",
      "})\n"
     ]
    }
   ],
   "source": [
    "def clean_batch(examples):\n",
    "    cleaned_texts = [clean_textdata(text) for text in examples[\"text\"]]\n",
    "    cleaned_texts = list(filter(None, cleaned_texts))\n",
    "    return {\"text\": cleaned_texts}\n",
    "\n",
    "# Clean the entire dataset\n",
    "cleaned_dataset = dataset.map(\n",
    "    clean_batch,\n",
    "    batched=True,\n",
    "    batch_size=1000,\n",
    "    num_proc=num_cores,\n",
    "    desc=\"Cleaning text\"\n",
    ")\n",
    "\n",
    "dataset[\"train\"][0][\"text\"][:100]\n",
    "cleaned_dataset[\"train\"][0][\"text\"][:100]\n",
    "\n",
    "print(cleaned_dataset)\n"
   ]
  },
  {
   "cell_type": "code",
   "execution_count": 20,
   "metadata": {},
   "outputs": [
    {
     "name": "stdout",
     "output_type": "stream",
     "text": [
      "Min length: 1\n",
      "Max length: 1446\n",
      "Average length: 96.00\n",
      "Median length: 82.00\n",
      "90th percentile: 220\n",
      "95th percentile: 264\n",
      "99th percentile: 976\n",
      "Number of sequences: 1165029\n"
     ]
    },
    {
     "data": {
      "image/png": "[encoded data removed]",
      "text/plain": [
       "<Figure size 1200x500 with 2 Axes>"
      ]
     },
     "metadata": {},
     "output_type": "display_data"
    }
   ],
   "source": [
    "# print(cleaned_dataset[\"test\"][\"text\"])\n",
    "import numpy as np\n",
    "\n",
    "def analyze_lengths(examples, tokenizer):\n",
    "    tokens = [tokenizer.encode(text) for text in examples[\"text\"]]\n",
    "    return {\"lengths\": [len(token) for token in tokens]}\n",
    "\n",
    "length_dataset = cleaned_dataset.map(\n",
    "    analyze_lengths,\n",
    "    fn_kwargs={\"tokenizer\": tokenizer},\n",
    "    batched=True,\n",
    "    batch_size=1000,\n",
    "    num_proc=num_cores,\n",
    "    desc=\"Analyzing sequence lengths\"\n",
    ")\n",
    "\n",
    "max_lengths_zeros = [item for item in length_dataset[\"train\"][\"lengths\"]]\n",
    "max_lengths_non_zeros = [item for item in length_dataset[\"train\"][\"lengths\"] if item not in [0]]\n",
    "\n",
    "lengths_array = np.array(max_lengths_non_zeros)\n",
    "lengths_array_zeros = np.array(max_lengths_zeros)\n",
    "print(f\"Min length: {np.min(lengths_array)}\")\n",
    "print(f\"Max length: {np.max(lengths_array)}\")\n",
    "print(f\"Average length: {np.mean(lengths_array):.2f}\")\n",
    "print(f\"Median length: {np.median(lengths_array):.2f}\")\n",
    "print(f\"90th percentile: {np.percentile(lengths_array, 90):.0f}\")\n",
    "print(f\"95th percentile: {np.percentile(lengths_array, 95):.0f}\")\n",
    "print(f\"99th percentile: {np.percentile(lengths_array, 99.9995):.0f}\")\n",
    "print(f\"Number of sequences: {len(lengths_array)}\")\n",
    "\n",
    "bin_size = 100\n",
    "fig, axs = plt.subplots(1, 2, figsize=(12, 5))\n",
    "\n",
    "axs[0].hist(lengths_array, bins=bin_size)\n",
    "axs[0].set_title('Distribution of Sequence Lengths Without Zeros')\n",
    "axs[0].set_xlabel('Length')\n",
    "axs[0].set_ylabel('Count')\n",
    "\n",
    "axs[1].hist(lengths_array_zeros, bins=bin_size)\n",
    "axs[1].set_title('Distribution of Sequence Lengths With Zeros')\n",
    "axs[1].set_xlabel('Length')\n",
    "axs[1].set_ylabel('Count')\n",
    "\n",
    "plt.tight_layout()\n",
    "plt.show()"
   ]
  },
  {
   "cell_type": "code",
   "execution_count": 9,
   "metadata": {},
   "outputs": [],
   "source": [
    "# def tokenize_batch_old(examples, tokenizer, max_length=1024):\n",
    "#     tokens = [tokenizer.encode(text) for text in examples[\"text\"]]\n",
    "#     padded_tokens = []\n",
    "#     for seq in tokens:\n",
    "#         if len(seq) > max_length:\n",
    "#             padded_tokens.append(seq[:max_length])\n",
    "#         else:\n",
    "#             padded_tokens.append(seq + [0] * (max_length - len(seq)))\n",
    "\n",
    "#     return {\"tokens\": padded_tokens}\n",
    "\n",
    "# tokenized_dataset = cleaned_dataset.map(\n",
    "#     tokenize_batch_old,\n",
    "#     fn_kwargs={\"tokenizer\": tokenizer},\n",
    "#     batched=True,\n",
    "#     batch_size=1000,\n",
    "#     num_proc=num_cores,\n",
    "#     remove_columns=[\"text\"],\n",
    "#     desc=\"Tokenizing\"\n",
    "# )\n",
    "\n",
    "# Similar to this: https://huggingface.co/docs/transformers/en/tasks/language_modeling\n",
    "def tokenize_batch(examples, tokenizer):\n",
    "    return {\n",
    "        \"input_ids\": [tokenizer.encode(text) for text in examples[\"text\"]]\n",
    "    }\n",
    "\n",
    "tokenized_dataset = cleaned_dataset.map(\n",
    "    tokenize_batch, \n",
    "    fn_kwargs={\"tokenizer\": tokenizer},\n",
    "    batched=True, \n",
    "    num_proc=num_cores,\n",
    "    remove_columns=cleaned_dataset[\"train\"].column_names,\n",
    "    desc=\"Tokenizing\"\n",
    ")\n",
    "\n",
    "def group_texts(examples):\n",
    "    concatenated = []\n",
    "    for ids in examples[\"input_ids\"]:\n",
    "        concatenated.extend(ids)\n",
    "    \n",
    "    total_length = (len(concatenated) // block_size) * block_size\n",
    "    concatenated = concatenated[:total_length]\n",
    "\n",
    "    return {\"input_ids\": [concatenated[i : i + block_size] \n",
    "            for i in range(0, total_length, block_size)]}\n",
    "\n",
    "lm_dataset = tokenized_dataset.map(\n",
    "    group_texts,\n",
    "    batched=True, \n",
    "    batch_size=block_size, \n",
    "    num_proc=num_cores,\n",
    "    desc=\"Chunking\"\n",
    ")\n",
    "\n",
    "tokenized_dataset_text = lm_dataset.filter(lambda x: any(token != 0 for token in x[\"input_ids\"]))\n"
   ]
  },
  {
   "cell_type": "code",
   "execution_count": 13,
   "metadata": {},
   "outputs": [
    {
     "name": "stdout",
     "output_type": "stream",
     "text": [
      "Train Data: torch.Size([108655, 1024]), torch.int64\n",
      "Val   Data: torch.Size([225, 1024]), torch.int64\n",
      "Test  Data: torch.Size([259, 1024]), torch.int64\n"
     ]
    }
   ],
   "source": [
    "train_tensor = np.array(tokenized_dataset_text[\"train\"][\"input_ids\"], dtype=np.int64)\n",
    "val_tensor   = np.array(tokenized_dataset_text[\"validation\"][\"input_ids\"], dtype=np.int64)\n",
    "test_tensor  = np.array(tokenized_dataset_text[\"test\"][\"input_ids\"], dtype=np.int64)\n",
    "\n",
    "train_data = torch.from_numpy(train_tensor)\n",
    "val_data   = torch.from_numpy(val_tensor)\n",
    "test_data  = torch.from_numpy(test_tensor)\n",
    "\n",
    "print(f\"Train Data: {train_data.shape}, {train_data.dtype}\")\n",
    "print(f\"Val   Data: {val_data.shape}, {val_data.dtype}\")\n",
    "print(f\"Test  Data: {test_data.shape}, {test_data.dtype}\")\n"
   ]
  },
  {
   "cell_type": "markdown",
   "metadata": {},
   "source": [
    "# Transformer Functions"
   ]
  },
  {
   "cell_type": "code",
   "execution_count": 16,
   "metadata": {},
   "outputs": [],
   "source": [
    "torch.manual_seed(1337)\n",
    "\n",
    "def get_batch(split, batch_size):\n",
    "    if split == \"train\":\n",
    "        data_split = train_data\n",
    "    elif split == \"val\":\n",
    "        data_split = val_data\n",
    "    elif split == \"test\":\n",
    "        data_split = test_data\n",
    "    else:\n",
    "        raise ValueError(\"Split must be one of: train, val, test.\")\n",
    "    \n",
    "    # randomly sample 'batch_size' rows from the tensor here\n",
    "    ix = torch.randint(0, data_split.size(0), (batch_size,))\n",
    "    x = data_split[ix]  # shape: [batch_size, block_size]\n",
    "    \n",
    "    # create targets by shifting tokens to the left by one position\n",
    "    # for a block of length L, the target for position i is the token at position i+1\n",
    "    # we can do it in-place or via clone. Here is a simple approach:\n",
    "    y = x.clone()\n",
    "    y[:, :-1] = x[:, 1:]\n",
    "\n",
    "    # The last token has no \"next\" token in this block, so we can copy it or \n",
    "    # leave it as-is (it won't matter too much in practice from what i've seen online at least)\n",
    "    y[:, -1] = x[:, -1]\n",
    "\n",
    "    x = x.to(device)\n",
    "    y = y.to(device)\n",
    "\n",
    "    return x, y\n",
    "\n",
    "# Disabling gradient calculation is useful for inference\n",
    "# https://pytorch.org/docs/stable/generated/torch.no_grad.html\n",
    "@torch.no_grad() \n",
    "def estimate_loss(model, eval_iters=100, batch_size=64, splits=(\"train\", \"val\")):\n",
    "    model.eval()\n",
    "    losses = {split: [] for split in splits}\n",
    "    \n",
    "    for split in splits:\n",
    "        for _ in range(eval_iters):\n",
    "            xb, yb = get_batch(split, batch_size)\n",
    "            _, loss = model(xb, yb)\n",
    "            losses[split].append(loss.item())\n",
    "\n",
    "    model.train()\n",
    "\n",
    "    avg_losses = {split: np.mean(losses[split]) for split in splits}\n",
    "    return avg_losses"
   ]
  },
  {
   "cell_type": "markdown",
   "metadata": {},
   "source": [
    "# Transformer"
   ]
  },
  {
   "cell_type": "code",
   "execution_count": 22,
   "metadata": {},
   "outputs": [],
   "source": [
    "class Head(nn.Module):\n",
    "    \"\"\" single head of self-attention \n",
    "        also i commented every step here\n",
    "    \"\"\"\n",
    "\n",
    "    # parameters: embed_dim = full embedding dimension (tis is n_embd, 768)\n",
    "    # head_dim = per-head dimension (tis is n_embd // n_head, 64)\n",
    "    # max_seq_len = maximum sequence length (tis is block_size, 1024)\n",
    "    # dropout_prob = dropout probability (tis is 0.1)\n",
    "    def __init__(self, embed_dim, head_dim, max_seq_len, dropout_prob):\n",
    "        super().__init__()\n",
    "        # linear projection for key vectors from input embeddings\n",
    "        self.key_proj = nn.Linear(embed_dim, head_dim, bias=False)\n",
    "        # linear projection for query vectors from input embeddings\n",
    "        self.query_proj = nn.Linear(embed_dim, head_dim, bias=False)\n",
    "        # linear projection for value vectors from input embeddings\n",
    "        self.value_proj = nn.Linear(embed_dim, head_dim, bias=False)\n",
    "        # register a lower-triangular matrix for causal masking\n",
    "        self.register_buffer('tril', torch.tril(torch.ones(max_seq_len, max_seq_len)))\n",
    "\n",
    "        self.dropout = nn.Dropout(dropout_prob)\n",
    "\n",
    "    def forward(self, input_tensor):\n",
    "        # input_tensor: (batch_size, seq_len, embed_dim)\n",
    "        batch_size, seq_len, embed_dim = input_tensor.shape\n",
    "        \n",
    "        # compute key, query, and value projections\n",
    "        keys = self.key_proj(input_tensor)     # shape: (batch_size, seq_len, head_dim)\n",
    "        queries = self.query_proj(input_tensor)  # shape: (batch_size, seq_len, head_dim)\n",
    "        values = self.value_proj(input_tensor)   # shape: (batch_size, seq_len, head_dim)\n",
    "        \n",
    "        # compute attention scores using dot product between queries and keys;\n",
    "        # scale by head_dim**-0.5 to stabilize training\n",
    "        attention_scores = queries @ keys.transpose(-2, -1) * (keys.shape[-1] ** -0.5)\n",
    "        # attention_scores: (batch_size, seq_len, seq_len)\n",
    "        \n",
    "        # apply causal masking: prevent tokens from attending to future tokens\n",
    "        attention_scores = attention_scores.masked_fill(\n",
    "            self.tril[:seq_len, :seq_len] == 0, float('-inf')\n",
    "        )\n",
    "        \n",
    "        # convert scores to probabilities using softmax\n",
    "        attention_weights = F.softmax(attention_scores, dim=-1)\n",
    "        \n",
    "        attention_weights = self.dropout(attention_weights)\n",
    "        \n",
    "        # weighted sum of value vectors using attention weights\n",
    "        output_tensor = attention_weights @ values  # shape: (batch_size, seq_len, head_dim)\n",
    "        \n",
    "        return output_tensor"
   ]
  },
  {
   "cell_type": "code",
   "execution_count": 24,
   "metadata": {},
   "outputs": [],
   "source": [
    "class MultiHead(nn.Module):\n",
    "    \"\"\" multiple heads of self-attention in parallel \n",
    "        commented every step here as well\n",
    "    \"\"\"\n",
    "    \n",
    "    # parameters: \n",
    "    # num_heads = number of attention heads (n_head, 12)\n",
    "    # embed_dim = full embedding dimension (n_embd, 768)\n",
    "    # head_dim =  each head dimension (typically embed_dim // num_heads, 64)\n",
    "    # max_seq_len = maximum sequence length (block_size, 1024)\n",
    "    # dropout_prob = dropout probability (0.1)\n",
    "    def __init__(self, num_heads, embed_dim, head_dim, max_seq_len, dropout_prob):\n",
    "        super().__init__()\n",
    "        # create a list of individual attention heads\n",
    "        self.heads = nn.ModuleList([\n",
    "            Head(embed_dim, head_dim, max_seq_len, dropout_prob)\n",
    "            for i in range(num_heads)\n",
    "        ])\n",
    "        # linear projection to combine outputs from all heads\n",
    "        self.projection = nn.Linear(num_heads * head_dim, embed_dim)\n",
    "\n",
    "        self.dropout = nn.Dropout(dropout_prob)\n",
    "    \n",
    "    def forward(self, input_tensor):\n",
    "        # apply each head to the input tensor; each output has shape (batch_size, seq_len, head_dim)\n",
    "        head_outputs = [head(input_tensor) for head in self.heads]\n",
    "        # concatenate outputs along the last dimension -> (batch_size, seq_len, num_heads * head_dim)\n",
    "        concatenated_heads = torch.cat(head_outputs, dim=-1)\n",
    "        # project concatenated outputs back to the full embedding dimension (embed_dim)\n",
    "        projected_output = self.projection(concatenated_heads)\n",
    "\n",
    "        output_tensor = self.dropout(projected_output)\n",
    "        return output_tensor"
   ]
  },
  {
   "cell_type": "code",
   "execution_count": null,
   "metadata": {},
   "outputs": [],
   "source": [
    "class feed_forward(nn.Module):\n",
    "    \"\"\" feedforward network that applies \n",
    "            a linear transformation, \n",
    "            a relu activation, \n",
    "            yet another linear transformation, \n",
    "            and then a dropout \n",
    "    \"\"\"\n",
    "    \n",
    "    # parameters:\n",
    "    # embed_dim: the full embedding dimension (768)\n",
    "    # dropout_prob: dropout probability (0.1)\n",
    "    def __init__(self, embed_dim, dropout_prob):\n",
    "        super().__init__()\n",
    "        # this bad boy defines a sequential network that:\n",
    "        # 1. expands the dimension from embed_dim to 4 * embed_dim,\n",
    "        # 2. applies a relu non-linearity,\n",
    "        # 3. projects the hidden dimension back to embed_dim,\n",
    "        # 4. applies dropout for regularization\n",
    "        self.net = nn.Sequential(\n",
    "            nn.Linear(embed_dim, 4 * embed_dim),  # expand dimensions\n",
    "            nn.ReLU(),                            # apply non-linearity\n",
    "            nn.Linear(4 * embed_dim, embed_dim),  # project back to original dimension\n",
    "            nn.Dropout(dropout_prob)              # apply dropout\n",
    "        )\n",
    "    \n",
    "    def forward(self, input_tensor):\n",
    "        # input_tensor should be of shape (batch_size, seq_len, embed_dim)\n",
    "        # the network processes the last dimension (the feature dimension)\n",
    "        return self.net(input_tensor)\n"
   ]
  }
 ],
 "metadata": {
  "kernelspec": {
   "display_name": ".venv",
   "language": "python",
   "name": "python3"
  },
  "language_info": {
   "codemirror_mode": {
    "name": "ipython",
    "version": 3
   },
   "file_extension": ".py",
   "mimetype": "text/x-python",
   "name": "python",
   "nbconvert_exporter": "python",
   "pygments_lexer": "ipython3",
   "version": "3.10.16"
  }
 },
 "nbformat": 4,
 "nbformat_minor": 2
}
