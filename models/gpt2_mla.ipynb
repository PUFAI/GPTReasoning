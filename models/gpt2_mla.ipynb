{
 "cells": [
  {
   "cell_type": "code",
   "execution_count": 1,
   "metadata": {},
   "outputs": [
    {
     "name": "stdout",
     "output_type": "stream",
     "text": [
      "/Users/michaelgathara/Documents/Projects/gpt/.venv/bin/python\n"
     ]
    }
   ],
   "source": [
    "import sys\n",
    "print(sys.executable)"
   ]
  },
  {
   "cell_type": "code",
   "execution_count": 2,
   "metadata": {},
   "outputs": [],
   "source": [
    "import sys\n",
    "import os\n",
    "import json\n",
    "\n",
    "# Get the parent directory of the current notebook\n",
    "sys.path.append(os.path.abspath(\"..\"))"
   ]
  },
  {
   "cell_type": "code",
   "execution_count": 3,
   "metadata": {},
   "outputs": [],
   "source": [
    "import torch\n",
    "import multiprocessing\n",
    "\n",
    "from data import get_wikitext_data, get_fineweb_data, load_data\n",
    "from tokenization import get_tiktoken_tokenizer"
   ]
  },
  {
   "cell_type": "code",
   "execution_count": 4,
   "metadata": {},
   "outputs": [
    {
     "name": "stdout",
     "output_type": "stream",
     "text": [
      "cpu\n"
     ]
    }
   ],
   "source": [
    "batch_size = 64  # Kept the same; could be adjusted based on hardware\n",
    "block_size = 1024  # GPT-2 uses a context length of 1024 tokens\n",
    "max_iters = 50000  # More iterations needed for larger models\n",
    "eval_interval = 1000  # Increase since more iterations are done\n",
    "learning_rate = 5e-5  # GPT-2 uses a lower learning rate\n",
    "device = 'cuda' if torch.cuda.is_available() else 'cpu'\n",
    "eval_iters = 500  # More frequent evaluation for stability\n",
    "\n",
    "n_embd = 768  # GPT-2 uses 768 for the small version, 1024 for medium, 1280 for large, 1600 for XL\n",
    "n_head = 12  # GPT-2 uses 12 attention heads\n",
    "n_layer = 12  # GPT-2 has 12 transformer blocks in the small version\n",
    "dropout = 0.1  # GPT-2 uses 0.1 dropout for better generalization\n",
    "print(device)"
   ]
  },
  {
   "cell_type": "code",
   "execution_count": 5,
   "metadata": {},
   "outputs": [
    {
     "name": "stderr",
     "output_type": "stream",
     "text": [
      "/Users/michaelgathara/Documents/Projects/gpt/.venv/lib/python3.10/site-packages/tqdm/auto.py:21: TqdmWarning: IProgress not found. Please update jupyter and ipywidgets. See https://ipywidgets.readthedocs.io/en/stable/user_install.html\n",
      "  from .autonotebook import tqdm as notebook_tqdm\n"
     ]
    },
    {
     "name": "stdout",
     "output_type": "stream",
     "text": [
      "<Encoding 'gpt2'>\n",
      "DatasetDict({\n",
      "    test: Dataset({\n",
      "        features: ['text'],\n",
      "        num_rows: 4358\n",
      "    })\n",
      "    train: Dataset({\n",
      "        features: ['text'],\n",
      "        num_rows: 1801350\n",
      "    })\n",
      "    validation: Dataset({\n",
      "        features: ['text'],\n",
      "        num_rows: 3760\n",
      "    })\n",
      "})\n"
     ]
    }
   ],
   "source": [
    "DATA_PATH = \"/workspace/GPT/data/tiktoken_tokenized_wikitext\"\n",
    "num_cores = multiprocessing.cpu_count()\n",
    "\n",
    "tokenizer = get_tiktoken_tokenizer()\n",
    "dataset = get_wikitext_data()\n",
    "print(tokenizer)\n",
    "print(dataset)"
   ]
  },
  {
   "cell_type": "code",
   "execution_count": 6,
   "metadata": {},
   "outputs": [
    {
     "name": "stdout",
     "output_type": "stream",
     "text": [
      "DatasetDict({\n",
      "    test: Dataset({\n",
      "        features: ['tokens'],\n",
      "        num_rows: 4358\n",
      "    })\n",
      "    train: Dataset({\n",
      "        features: ['tokens'],\n",
      "        num_rows: 1801350\n",
      "    })\n",
      "    validation: Dataset({\n",
      "        features: ['tokens'],\n",
      "        num_rows: 3760\n",
      "    })\n",
      "})\n",
      "{'tokens': [796, 569, 18354, 7496, 17740, 6711, 796, 220, 198]}\n"
     ]
    }
   ],
   "source": [
    "tokenized_dataset = dataset.map(\n",
    "    lambda x: {\"tokens\": [tokenizer.encode(text) for text in x[\"text\"]]},\n",
    "    batched=True,\n",
    "    num_proc=num_cores,\n",
    "    remove_columns=[\"text\"]\n",
    ")\n",
    "print(tokenized_dataset)\n",
    "tokenized_dataset = tokenized_dataset.filter(lambda x: len(x[\"tokens\"]) > 0)\n",
    "print(tokenized_dataset[\"train\"][0])"
   ]
  }
 ],
 "metadata": {
  "kernelspec": {
   "display_name": ".venv",
   "language": "python",
   "name": "python3"
  },
  "language_info": {
   "codemirror_mode": {
    "name": "ipython",
    "version": 3
   },
   "file_extension": ".py",
   "mimetype": "text/x-python",
   "name": "python",
   "nbconvert_exporter": "python",
   "pygments_lexer": "ipython3",
   "version": "3.10.16"
  }
 },
 "nbformat": 4,
 "nbformat_minor": 2
}
