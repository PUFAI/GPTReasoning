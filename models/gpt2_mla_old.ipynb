{
 "cells": [
  {
   "cell_type": "code",
   "execution_count": null,
   "metadata": {},
   "outputs": [],
   "source": [
    "import sys\n",
    "print(sys.executable)"
   ]
  },
  {
   "cell_type": "code",
   "execution_count": null,
   "metadata": {},
   "outputs": [],
   "source": [
    "import sys\n",
    "import os\n",
    "import json\n",
    "\n",
    "# Get the parent directory of the current notebook\n",
    "base_folder = os.path.abspath(\"..\")\n",
    "print(f\"Your base folder is: {base_folder}\")\n",
    "sys.path.append(base_folder)"
   ]
  },
  {
   "cell_type": "code",
   "execution_count": null,
   "metadata": {},
   "outputs": [],
   "source": [
    "import torch\n",
    "device = torch.device(\"mps\" if torch.backends.mps.is_available() else \"cpu\")\n",
    "# device = 'cuda' if torch.cuda.is_available() else 'cpu'\n",
    "device = torch.device(\"cpu\") # If everything else fails\n",
    "if torch.cuda.is_available():\n",
    "    device = torch.device(\"cuda\") # CUDA Enabled Devices\n",
    "if torch.backends.mps.is_available():\n",
    "    device = torch.device(\"mps\") # Apple Sillicon GPU\n",
    "\n",
    "print(f\"Using device: {device}\")\n",
    "\n",
    "import multiprocessing\n",
    "from tqdm import tqdm\n",
    "import numpy as np\n",
    "\n",
    "from data import get_wikitext_data, get_fineweb_data, save_data, load_data, clean_textdata\n",
    "from tokenization import get_tiktoken_tokenizer\n",
    "import matplotlib.pyplot as plt"
   ]
  },
  {
   "cell_type": "code",
   "execution_count": null,
   "metadata": {},
   "outputs": [],
   "source": [
    "DATA_PATH = f\"{base_folder}/data/tiktoken_tokenized_wikitext\"\n",
    "num_cores = multiprocessing.cpu_count()\n",
    "\n",
    "tokenizer = get_tiktoken_tokenizer()\n",
    "dataset = get_wikitext_data()\n",
    "# save_data(dataset, DATA_PATH)\n",
    "\n",
    "print(tokenizer)\n",
    "print(dataset)"
   ]
  },
  {
   "cell_type": "code",
   "execution_count": null,
   "metadata": {},
   "outputs": [],
   "source": [
    "def clean_batch(examples):\n",
    "    cleaned_texts = [clean_textdata(text) for text in examples[\"text\"]]\n",
    "    return {\"text\": cleaned_texts}\n",
    "\n",
    "# Clean the entire dataset\n",
    "cleaned_dataset = dataset.map(\n",
    "    clean_batch,\n",
    "    batched=True,\n",
    "    batch_size=1000,\n",
    "    num_proc=num_cores,\n",
    "    desc=\"Cleaning text\"\n",
    ")\n",
    "\n",
    "dataset[\"train\"][0][\"text\"][:100]\n",
    "cleaned_dataset[\"train\"][0][\"text\"][:100]\n",
    "\n",
    "print(cleaned_dataset)\n"
   ]
  },
  {
   "cell_type": "code",
   "execution_count": null,
   "metadata": {},
   "outputs": [],
   "source": [
    "print(cleaned_dataset[\"test\"][\"text\"])\n",
    "import numpy as np\n",
    "\n",
    "def analyze_lengths(examples, tokenizer):\n",
    "    tokens = [tokenizer.encode(text) for text in examples[\"text\"]]\n",
    "    return {\"lengths\": [len(token) for token in tokens]}\n",
    "\n",
    "length_dataset = cleaned_dataset.map(\n",
    "    analyze_lengths,\n",
    "    fn_kwargs={\"tokenizer\": tokenizer},\n",
    "    batched=True,\n",
    "    batch_size=1000,\n",
    "    num_proc=num_cores,\n",
    "    desc=\"Analyzing sequence lengths\"\n",
    ")\n",
    "\n",
    "max_lengths_zeros = [item for item in length_dataset[\"train\"][\"lengths\"]]\n",
    "max_lengths_non_zeros = [item for item in length_dataset[\"train\"][\"lengths\"] if item not in [0]]\n",
    "\n",
    "lengths_array = np.array(max_lengths_non_zeros)\n",
    "lengths_array_zeros = np.array(max_lengths_zeros)\n",
    "print(f\"Min length: {np.min(lengths_array)}\")\n",
    "print(f\"Max length: {np.max(lengths_array)}\")\n",
    "print(f\"Average length: {np.mean(lengths_array):.2f}\")\n",
    "print(f\"Median length: {np.median(lengths_array):.2f}\")\n",
    "print(f\"90th percentile: {np.percentile(lengths_array, 90):.0f}\")\n",
    "print(f\"95th percentile: {np.percentile(lengths_array, 95):.0f}\")\n",
    "print(f\"99th percentile: {np.percentile(lengths_array, 99.9995):.0f}\")\n",
    "print(f\"Number of sequences: {len(lengths_array)}\")\n",
    "\n",
    "bin_size = 100\n",
    "fig, axs = plt.subplots(1, 2, figsize=(12, 5))\n",
    "\n",
    "axs[0].hist(lengths_array, bins=bin_size)\n",
    "axs[0].set_title('Distribution of Sequence Lengths Without Zeros')\n",
    "axs[0].set_xlabel('Length')\n",
    "axs[0].set_ylabel('Count')\n",
    "\n",
    "axs[1].hist(lengths_array_zeros, bins=bin_size)\n",
    "axs[1].set_title('Distribution of Sequence Lengths With Zeros')\n",
    "axs[1].set_xlabel('Length')\n",
    "axs[1].set_ylabel('Count')\n",
    "\n",
    "plt.tight_layout()\n",
    "plt.show()"
   ]
  },
  {
   "cell_type": "code",
   "execution_count": null,
   "metadata": {},
   "outputs": [],
   "source": [
    "def tokenize_batch(examples, tokenizer, max_length=1024):\n",
    "    tokens = [tokenizer.encode(text) for text in examples[\"text\"]]\n",
    "    padded_tokens = []\n",
    "    for seq in tokens:\n",
    "        if len(seq) > max_length:\n",
    "            padded_tokens.append(seq[:max_length])\n",
    "        else:\n",
    "            padded_tokens.append(seq + [0] * (max_length - len(seq)))\n",
    "\n",
    "    return {\"tokens\": padded_tokens}\n",
    "\n",
    "tokenized_dataset = cleaned_dataset.map(\n",
    "    tokenize_batch,\n",
    "    fn_kwargs={\"tokenizer\": tokenizer},\n",
    "    batched=True,\n",
    "    batch_size=1000,\n",
    "    num_proc=num_cores,\n",
    "    remove_columns=[\"text\"],\n",
    "    desc=\"Tokenizing\"\n",
    ")\n",
    "\n",
    "tokenized_dataset_text = tokenized_dataset.filter(lambda x: any(token != 0 for token in x[\"tokens\"]))\n"
   ]
  },
  {
   "cell_type": "code",
   "execution_count": null,
   "metadata": {},
   "outputs": [],
   "source": [
    "print(tokenized_dataset_text)\n",
    "\n",
    "# data = torch.stack([torch.tensor(tokens, dtype=torch.long) for tokens in tqdm(tokenized_dataset_text[\"train\"][\"tokens\"], desc=\"Loading data\")])\n",
    "\n",
    "tokens_array = np.array(tokenized_dataset_text[\"train\"][\"tokens\"], dtype=np.int64)\n",
    "data = torch.from_numpy(tokens_array)\n",
    "\n",
    "print(data.shape, data.dtype)\n",
    "print(data[:100])"
   ]
  },
  {
   "cell_type": "code",
   "execution_count": null,
   "metadata": {},
   "outputs": [],
   "source": [
    "batch_size = 64  # Kept the same; could be adjusted based on hardware\n",
    "block_size = 1024  # GPT-2 uses a context length of 1024 tokens\n",
    "max_iters = 50000  # More iterations needed for larger models\n",
    "eval_interval = 1000  # Increase since more iterations are done\n",
    "learning_rate = 5e-5  # GPT-2 uses a lower learning rate\n",
    "eval_iters = 500  # More frequent evaluation for stability\n",
    "\n",
    "n_embd = 768  # GPT-2 uses 768 for the small version, 1024 for medium, 1280 for large, 1600 for XL\n",
    "n_head = 12  # GPT-2 uses 12 attention heads\n",
    "n_layer = 12  # GPT-2 has 12 transformer blocks in the small version\n",
    "dropout = 0.1  # GPT-2 uses 0.1 dropout for better generalization\n"
   ]
  }
 ],
 "metadata": {
  "kernelspec": {
   "display_name": ".venv",
   "language": "python",
   "name": "python3"
  },
  "language_info": {
   "codemirror_mode": {
    "name": "ipython",
    "version": 3
   },
   "file_extension": ".py",
   "mimetype": "text/x-python",
   "name": "python",
   "nbconvert_exporter": "python",
   "pygments_lexer": "ipython3",
   "version": "3.10.16"
  }
 },
 "nbformat": 4,
 "nbformat_minor": 2
}
